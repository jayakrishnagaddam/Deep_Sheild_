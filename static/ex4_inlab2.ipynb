{
 "cells": [
  {
   "cell_type": "code",
   "execution_count": null,
   "id": "b6d75e80",
   "metadata": {},
   "outputs": [],
   "source": [
    "#To perform topic modeling using Latent Dirichlet Allocation (LDA) in Python, we need to install the gensim library\n",
    "#pip install gensim"
   ]
  },
  {
   "cell_type": "code",
   "execution_count": 2,
   "id": "8f6520cb",
   "metadata": {},
   "outputs": [],
   "source": [
    "import gensim\n",
    "from gensim import corpora\n",
    "from pprint import pprint"
   ]
  },
  {
   "cell_type": "code",
   "execution_count": 3,
   "id": "8f1449dd",
   "metadata": {},
   "outputs": [],
   "source": [
    "# Sample documents\n",
    "documents = [\n",
    "    \"Machine learning is a subset of artificial intelligence.\",\n",
    "    \"Natural language processing is an important aspect of AI.\",\n",
    "    \"Deep learning has shown remarkable results in various applications.\",\n",
    "    \"Topic modeling helps in discovering hidden themes in a collection of documents.\",\n",
    "    \"Python is a popular programming language for data science and machine learning.\",\n",
    "]"
   ]
  },
  {
   "cell_type": "code",
   "execution_count": 4,
   "id": "2d83a1cf",
   "metadata": {},
   "outputs": [],
   "source": [
    "# Tokenize and preprocess the documents\n",
    "tokenized_documents = [gensim.utils.simple_preprocess(doc) for doc in documents]"
   ]
  },
  {
   "cell_type": "code",
   "execution_count": 5,
   "id": "07816131",
   "metadata": {},
   "outputs": [],
   "source": [
    "# Create a dictionary and corpus\n",
    "dictionary = corpora.Dictionary(tokenized_documents)\n",
    "corpus = [dictionary.doc2bow(doc) for doc in tokenized_documents]"
   ]
  },
  {
   "cell_type": "code",
   "execution_count": 6,
   "id": "a65c329a",
   "metadata": {},
   "outputs": [],
   "source": [
    "# Build LDA model\n",
    "lda_model = gensim.models.LdaModel(\n",
    "    corpus=corpus,\n",
    "    id2word=dictionary,\n",
    "    num_topics=2,  # You can adjust the number of topics as needed\n",
    "    random_state=42,\n",
    "    passes=10,     # Number of passes over the corpus\n",
    ")"
   ]
  },
  {
   "cell_type": "code",
   "execution_count": 7,
   "id": "56471c5d",
   "metadata": {},
   "outputs": [
    {
     "name": "stdout",
     "output_type": "stream",
     "text": [
      "[(0,\n",
      "  '0.070*\"in\" + 0.070*\"of\" + 0.041*\"topic\" + 0.041*\"discovering\" + '\n",
      "  '0.041*\"documents\" + 0.041*\"helps\" + 0.041*\"themes\" + 0.041*\"hidden\" + '\n",
      "  '0.041*\"modeling\" + 0.041*\"collection\"'),\n",
      " (1,\n",
      "  '0.053*\"learning\" + 0.053*\"is\" + 0.053*\"language\" + 0.032*\"machine\" + '\n",
      "  '0.032*\"for\" + 0.032*\"science\" + 0.032*\"data\" + 0.032*\"python\" + 0.032*\"and\" '\n",
      "  '+ 0.032*\"programming\"')]\n"
     ]
    }
   ],
   "source": [
    "# Print the topics\n",
    "pprint(lda_model.print_topics())"
   ]
  },
  {
   "cell_type": "code",
   "execution_count": 8,
   "id": "d895b3c2",
   "metadata": {},
   "outputs": [
    {
     "name": "stdout",
     "output_type": "stream",
     "text": [
      "Document 1: Dominant Topic - 0\n",
      "Document 2: Dominant Topic - 1\n",
      "Document 3: Dominant Topic - 1\n",
      "Document 4: Dominant Topic - 0\n",
      "Document 5: Dominant Topic - 1\n"
     ]
    }
   ],
   "source": [
    "# Get the dominant topic for each document\n",
    "for i, doc in enumerate(corpus):\n",
    "    topic_distribution = lda_model[doc]\n",
    "    dominant_topic = max(topic_distribution, key=lambda x: x[1])[0]\n",
    "    print(f\"Document {i+1}: Dominant Topic - {dominant_topic}\")"
   ]
  },
  {
   "cell_type": "code",
   "execution_count": null,
   "id": "cb7c83ab",
   "metadata": {},
   "outputs": [],
   "source": []
  }
 ],
 "metadata": {
  "kernelspec": {
   "display_name": "Python 3 (ipykernel)",
   "language": "python",
   "name": "python3"
  },
  "language_info": {
   "codemirror_mode": {
    "name": "ipython",
    "version": 3
   },
   "file_extension": ".py",
   "mimetype": "text/x-python",
   "name": "python",
   "nbconvert_exporter": "python",
   "pygments_lexer": "ipython3",
   "version": "3.10.7"
  }
 },
 "nbformat": 4,
 "nbformat_minor": 5
}
